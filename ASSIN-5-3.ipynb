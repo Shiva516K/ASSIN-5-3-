{
 "cells": [
  {
   "cell_type": "code",
   "execution_count": 1,
   "id": "21f89aa8",
   "metadata": {},
   "outputs": [],
   "source": [
    "class Student:\n",
    "\n",
    "    def setName(self,name):\n",
    "        self.__name=name\n",
    "    \n",
    "    def getName(self):\n",
    "        return self.__name\n",
    "    \n",
    "    def setRollno(self,rollno):\n",
    "        self.__rollno=rollno\n",
    "    \n",
    "    def getRollno(self):\n",
    "        return self.__rollno"
   ]
  },
  {
   "cell_type": "code",
   "execution_count": 2,
   "id": "97e86a5e",
   "metadata": {},
   "outputs": [],
   "source": [
    "stud=Student()"
   ]
  },
  {
   "cell_type": "code",
   "execution_count": 3,
   "id": "e43dece2",
   "metadata": {},
   "outputs": [],
   "source": [
    "name=stud.setName(\"shiva kumar\")"
   ]
  },
  {
   "cell_type": "code",
   "execution_count": 4,
   "id": "6d1a4909",
   "metadata": {},
   "outputs": [],
   "source": [
    "name=stud.getName()"
   ]
  },
  {
   "cell_type": "code",
   "execution_count": 5,
   "id": "770cfff1",
   "metadata": {},
   "outputs": [
    {
     "name": "stdout",
     "output_type": "stream",
     "text": [
      "name of the student: shiva kumar\n"
     ]
    }
   ],
   "source": [
    "print(\"name of the student:\",name)"
   ]
  },
  {
   "cell_type": "code",
   "execution_count": 6,
   "id": "7d15a245",
   "metadata": {},
   "outputs": [],
   "source": [
    "stud.setRollno(17)"
   ]
  },
  {
   "cell_type": "code",
   "execution_count": 7,
   "id": "fc0b026c",
   "metadata": {},
   "outputs": [],
   "source": [
    "rollno= stud.getRollno()"
   ]
  },
  {
   "cell_type": "code",
   "execution_count": 8,
   "id": "b674bbb7",
   "metadata": {},
   "outputs": [
    {
     "name": "stdout",
     "output_type": "stream",
     "text": [
      "rollno : 17\n"
     ]
    }
   ],
   "source": [
    "print(\"rollno :\", rollno)"
   ]
  },
  {
   "cell_type": "code",
   "execution_count": null,
   "id": "69b4e267",
   "metadata": {},
   "outputs": [],
   "source": []
  }
 ],
 "metadata": {
  "kernelspec": {
   "display_name": "Python 3 (ipykernel)",
   "language": "python",
   "name": "python3"
  },
  "language_info": {
   "codemirror_mode": {
    "name": "ipython",
    "version": 3
   },
   "file_extension": ".py",
   "mimetype": "text/x-python",
   "name": "python",
   "nbconvert_exporter": "python",
   "pygments_lexer": "ipython3",
   "version": "3.11.3"
  }
 },
 "nbformat": 4,
 "nbformat_minor": 5
}
